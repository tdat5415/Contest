{
 "cells": [
  {
   "cell_type": "code",
   "execution_count": null,
   "id": "16c1b1de",
   "metadata": {},
   "outputs": [],
   "source": []
  },
  {
   "cell_type": "code",
   "execution_count": 21,
   "id": "e7de5f2a",
   "metadata": {},
   "outputs": [
    {
     "name": "stdout",
     "output_type": "stream",
     "text": [
      "Index(['index', 'title', 'topic_idx'], dtype='object')\n",
      "Index(['index', 'title'], dtype='object')\n",
      "Index(['index', 'topic_idx'], dtype='object')\n"
     ]
    }
   ],
   "source": [
    "import pandas as pd\n",
    "\n",
    "test_data = pd.read_csv('./open/test_data.csv')\n",
    "train_data = pd.read_csv('./open/train_data.csv')\n",
    "topic_dict = pd.read_csv('./open/topic_dict.csv')\n",
    "submission = pd.read_csv('./open/sample_submission.csv')\n",
    "\n",
    "print(train_data.columns)\n",
    "print(test_data.columns)\n",
    "print(submission.columns)"
   ]
  },
  {
   "cell_type": "code",
   "execution_count": null,
   "id": "a5ca2155",
   "metadata": {},
   "outputs": [],
   "source": []
  },
  {
   "cell_type": "code",
   "execution_count": 33,
   "id": "1278e5bf",
   "metadata": {},
   "outputs": [
    {
     "data": {
      "text/html": [
       "<div>\n",
       "<style scoped>\n",
       "    .dataframe tbody tr th:only-of-type {\n",
       "        vertical-align: middle;\n",
       "    }\n",
       "\n",
       "    .dataframe tbody tr th {\n",
       "        vertical-align: top;\n",
       "    }\n",
       "\n",
       "    .dataframe thead th {\n",
       "        text-align: right;\n",
       "    }\n",
       "</style>\n",
       "<table border=\"1\" class=\"dataframe\">\n",
       "  <thead>\n",
       "    <tr style=\"text-align: right;\">\n",
       "      <th></th>\n",
       "      <th>index</th>\n",
       "      <th>title</th>\n",
       "      <th>topic_idx</th>\n",
       "    </tr>\n",
       "  </thead>\n",
       "  <tbody>\n",
       "    <tr>\n",
       "      <th>0</th>\n",
       "      <td>0</td>\n",
       "      <td>인천  핀란드   항공기  결항  휴가철   여행객  분통</td>\n",
       "      <td>4</td>\n",
       "    </tr>\n",
       "    <tr>\n",
       "      <th>1</th>\n",
       "      <td>1</td>\n",
       "      <td>실리콘 밸리    넘어서 겠다  구글   조원 들여  美전역   거점화</td>\n",
       "      <td>4</td>\n",
       "    </tr>\n",
       "    <tr>\n",
       "      <th>2</th>\n",
       "      <td>2</td>\n",
       "      <td>이란 외무  긴장완화    해결책 은   미국이   경제전쟁   멈추는  것</td>\n",
       "      <td>4</td>\n",
       "    </tr>\n",
       "    <tr>\n",
       "      <th>3</th>\n",
       "      <td>3</td>\n",
       "      <td>NYT  클린턴   측근 韓기업    특수관계  조명 공과 사  맞물려종합</td>\n",
       "      <td>4</td>\n",
       "    </tr>\n",
       "    <tr>\n",
       "      <th>4</th>\n",
       "      <td>4</td>\n",
       "      <td>시진핑    트럼프 에  중미  무역협상  조속 타결 희망</td>\n",
       "      <td>4</td>\n",
       "    </tr>\n",
       "  </tbody>\n",
       "</table>\n",
       "</div>"
      ],
      "text/plain": [
       "   index                                       title  topic_idx\n",
       "0      0            인천  핀란드   항공기  결항  휴가철   여행객  분통          4\n",
       "1      1     실리콘 밸리    넘어서 겠다  구글   조원 들여  美전역   거점화          4\n",
       "2      2  이란 외무  긴장완화    해결책 은   미국이   경제전쟁   멈추는  것          4\n",
       "3      3   NYT  클린턴   측근 韓기업    특수관계  조명 공과 사  맞물려종합          4\n",
       "4      4            시진핑    트럼프 에  중미  무역협상  조속 타결 희망          4"
      ]
     },
     "execution_count": 33,
     "metadata": {},
     "output_type": "execute_result"
    }
   ],
   "source": [
    "import re\n",
    "\n",
    "# train_data['title'] = train_data['title'].map(lambda x:re.sub('[^가-힣]', ' ', x).strip())\n",
    "# test_data['title'] = test_data['title'].map(lambda x:re.sub('[^가-힣]', ' ', x).strip())\n",
    "# train_data['title'] = train_data['title'].map(lambda x:re.sub('\\W', ' ', x).strip())\n",
    "# test_data['title'] = test_data['title'].map(lambda x:re.sub('\\W', ' ', x).strip())\n",
    "train_data['title'] = train_data['title'].map(lambda x:re.sub('[\\W\\d]', ' ', x).strip())\n",
    "test_data['title'] = test_data['title'].map(lambda x:re.sub('[\\W\\d]', ' ', x).strip())\n",
    "\n",
    "train_data.head()"
   ]
  },
  {
   "cell_type": "code",
   "execution_count": null,
   "id": "e8a433dc",
   "metadata": {},
   "outputs": [],
   "source": []
  },
  {
   "cell_type": "code",
   "execution_count": 34,
   "id": "ee9fe495",
   "metadata": {},
   "outputs": [
    {
     "name": "stdout",
     "output_type": "stream",
     "text": [
      "가장 많은 단어를 가진 뉴스의 단어수 : 14\n"
     ]
    }
   ],
   "source": [
    "temp = list(map(lambda x:x.split(), train_data['title'].tolist() + test_data['title'].tolist()))\n",
    "num_word_list = list(map(len, temp))\n",
    "print('가장 많은 단어를 가진 뉴스의 단어수 :', max(num_word_list))"
   ]
  },
  {
   "cell_type": "code",
   "execution_count": 35,
   "id": "b412d8fc",
   "metadata": {},
   "outputs": [],
   "source": [
    "from tensorflow.keras.preprocessing.text import Tokenizer\n",
    "\n",
    "tokenizer = Tokenizer(num_words=80000, oov_token=\"<oov>\")\n",
    "tokenizer.fit_on_texts(train_data['title'].tolist() + test_data['title'].tolist())\n",
    "\n",
    "word_index = tokenizer.word_index"
   ]
  },
  {
   "cell_type": "code",
   "execution_count": null,
   "id": "638acce0",
   "metadata": {},
   "outputs": [],
   "source": []
  },
  {
   "cell_type": "code",
   "execution_count": 39,
   "id": "f543c60a",
   "metadata": {},
   "outputs": [
    {
     "data": {
      "text/plain": [
       "['sk브로드밴드',\n",
       " 'ktb투자증권',\n",
       " '바이올리니스트',\n",
       " '삼성엔지니어링',\n",
       " '로보어드바이저',\n",
       " 'kbs교향악단',\n",
       " '에미레이트항공',\n",
       " 'ibk투자증권',\n",
       " '오클라호마시티',\n",
       " '금수산태양궁전']"
      ]
     },
     "execution_count": 39,
     "metadata": {},
     "output_type": "execute_result"
    }
   ],
   "source": [
    "import numpy as np\n",
    "\n",
    "words = np.array(list(word_index.keys())[1:])\n",
    "len_chr = np.array(list(map(len, words)))\n",
    "words = words[(len_chr >= 2) & (len_chr <= 7)]\n",
    "words = sorted(words, key=lambda x:len(x), reverse=True)\n",
    "words[:10]"
   ]
  },
  {
   "cell_type": "code",
   "execution_count": 38,
   "id": "5f462e00",
   "metadata": {},
   "outputs": [],
   "source": [
    "# sorted(words)"
   ]
  },
  {
   "cell_type": "code",
   "execution_count": null,
   "id": "25c5a689",
   "metadata": {},
   "outputs": [
    {
     "name": "stderr",
     "output_type": "stream",
     "text": [
      " 77%|████████████████████████████████████████████████████████▊                 | 51202/66630 [1:01:53<19:58, 12.87it/s]"
     ]
    }
   ],
   "source": [
    "from tqdm import tqdm\n",
    "\n",
    "for word in tqdm(words):\n",
    "    train_data['title'] = train_data['title'].map(lambda x:x.replace(word, ' {} '.format(word)))\n",
    "    test_data['title'] = test_data['title'].map(lambda x:x.replace(word, ' {} '.format(word)))"
   ]
  },
  {
   "cell_type": "code",
   "execution_count": null,
   "id": "3d48850a",
   "metadata": {},
   "outputs": [],
   "source": []
  },
  {
   "cell_type": "code",
   "execution_count": null,
   "id": "af41dd32",
   "metadata": {},
   "outputs": [],
   "source": [
    "train_data.to_csv('./refined_train_data_2word_1_no_num.csv', index=False)\n",
    "test_data.to_csv('./refined_test_data_2word_1_no_num.csv', index=False)"
   ]
  },
  {
   "cell_type": "code",
   "execution_count": null,
   "id": "7f1dcdb0",
   "metadata": {},
   "outputs": [],
   "source": []
  },
  {
   "cell_type": "code",
   "execution_count": null,
   "id": "fad244d6",
   "metadata": {},
   "outputs": [],
   "source": []
  },
  {
   "cell_type": "code",
   "execution_count": null,
   "id": "5815d1fa",
   "metadata": {},
   "outputs": [],
   "source": []
  },
  {
   "cell_type": "code",
   "execution_count": null,
   "id": "c43f25d8",
   "metadata": {},
   "outputs": [],
   "source": []
  },
  {
   "cell_type": "code",
   "execution_count": null,
   "id": "155048bb",
   "metadata": {},
   "outputs": [],
   "source": []
  },
  {
   "cell_type": "code",
   "execution_count": null,
   "id": "361b6b2e",
   "metadata": {},
   "outputs": [],
   "source": []
  },
  {
   "cell_type": "code",
   "execution_count": 8,
   "id": "8176733e",
   "metadata": {},
   "outputs": [
    {
     "name": "stdout",
     "output_type": "stream",
     "text": [
      "가장 많은 단어를 가진 뉴스의 단어수 : 21\n"
     ]
    }
   ],
   "source": [
    "temp = list(map(lambda x:x.split(), train_data['title'].tolist() + test_data['title'].tolist()))\n",
    "num_word_list = list(map(len, temp))\n",
    "print('가장 많은 단어를 가진 뉴스의 단어수 :', max(num_word_list))"
   ]
  },
  {
   "cell_type": "code",
   "execution_count": 9,
   "id": "85f7ea82",
   "metadata": {},
   "outputs": [],
   "source": [
    "from tensorflow.keras.preprocessing.text import Tokenizer\n",
    "\n",
    "tokenizer = Tokenizer(num_words=80000, oov_token=\"<oov>\")\n",
    "tokenizer.fit_on_texts(train_data['title'].tolist() + test_data['title'].tolist())\n",
    "\n",
    "word_index = tokenizer.word_index"
   ]
  },
  {
   "cell_type": "code",
   "execution_count": 10,
   "id": "f23a4bd9",
   "metadata": {},
   "outputs": [
    {
     "data": {
      "text/plain": [
       "['부르키나파소',\n",
       " '키르기스스탄',\n",
       " 'bgf리테일',\n",
       " 'kistep',\n",
       " '프랑크푸르트',\n",
       " 'gs칼텍스에',\n",
       " '삼정kpmg',\n",
       " '커뮤니케이션',\n",
       " 'kaist서',\n",
       " 'lig넥스원']"
      ]
     },
     "execution_count": 10,
     "metadata": {},
     "output_type": "execute_result"
    }
   ],
   "source": [
    "import numpy as np\n",
    "\n",
    "words = np.array(list(word_index.keys())[1:])\n",
    "len_chr = np.array(list(map(len, words)))\n",
    "words = words[(len_chr >= 2) & (len_chr <= 6)]\n",
    "words = sorted(words, key=lambda x:len(x), reverse=True)\n",
    "words[:10]"
   ]
  },
  {
   "cell_type": "code",
   "execution_count": 11,
   "id": "497d9224",
   "metadata": {},
   "outputs": [
    {
     "name": "stderr",
     "output_type": "stream",
     "text": [
      "100%|████████████████████████████████████████████████████████████████████████████| 26206/26206 [32:09<00:00, 13.58it/s]\n"
     ]
    }
   ],
   "source": [
    "from tqdm import tqdm\n",
    "\n",
    "for word in tqdm(words):\n",
    "    train_data['title'] = train_data['title'].map(lambda x:x.replace(word, ' {} '.format(word)))\n",
    "    test_data['title'] = test_data['title'].map(lambda x:x.replace(word, ' {} '.format(word)))"
   ]
  },
  {
   "cell_type": "code",
   "execution_count": 12,
   "id": "616a874a",
   "metadata": {},
   "outputs": [],
   "source": [
    "train_data.to_csv('./refined_train_data2.csv', index=False)\n",
    "test_data.to_csv('./refined_test_data2.csv', index=False)"
   ]
  },
  {
   "cell_type": "code",
   "execution_count": null,
   "id": "890efc43",
   "metadata": {},
   "outputs": [],
   "source": []
  },
  {
   "cell_type": "code",
   "execution_count": null,
   "id": "3a41d636",
   "metadata": {},
   "outputs": [],
   "source": []
  },
  {
   "cell_type": "code",
   "execution_count": null,
   "id": "b5613fd5",
   "metadata": {},
   "outputs": [],
   "source": []
  },
  {
   "cell_type": "code",
   "execution_count": 19,
   "id": "fa84aeab",
   "metadata": {},
   "outputs": [],
   "source": [
    "import re\n",
    "\n",
    "train_data['title'] = train_data['title'].map(lambda x:re.sub('\\s+', ' ', x).strip())\n",
    "test_data['title'] = test_data['title'].map(lambda x:re.sub('\\s+', ' ', x).strip())\n",
    "# test_data.head(20)\n"
   ]
  },
  {
   "cell_type": "code",
   "execution_count": 20,
   "id": "420de2d4",
   "metadata": {},
   "outputs": [
    {
     "data": {
      "text/plain": [
       "array(['인천 핀 란드 항공 기 결항 휴가 철 여행 객 분통',\n",
       "       '실리 콘 밸리 넘어 서 겠다 구글 1 5조 원 들여 美 전역 거점 화',\n",
       "       '이란 외무 긴장 완화 해결 책 은 미국 이 경제 전쟁 멈추 는 것',\n",
       "       'NYT 클린 턴 측근 韓 기업 특수 관계 조명 공과 사 맞 물려 종합',\n",
       "       '시진핑 트럼 프 에 중미 무역 협상 조속 타결 희망',\n",
       "       '팔레 스타 인 가자 지구 서 16 세 소년 이 스라엘 군 총격 에 사망',\n",
       "       '인도 4 8년 만에 파 키스 탄 공습 테러 캠프 폭격 종합 2보',\n",
       "       '美 대선 TV 토론 음담패설 만회 실패 트럼 프 사과 대신 빌 클린 턴 공격 해 역 효과',\n",
       "       '푸틴 한 반도 상황 진전 위한 방안 김 정은 위원 장 과 논의',\n",
       "       '특검 면죄부 받은 트럼 프 스캔들 보도 언론 맹공 국민 의 적',\n",
       "       '日 오키 나와 서 열린 강제 징용 노동 자 추도 식',\n",
       "       '이란 서 최고 지도 자 모욕 혐의 미국 인 에 징역 10 년 선고',\n",
       "       '카니발 축제 보러 가자 브라질 리우 에 대형 유람선 행렬',\n",
       "       '美 올랜도 병원 최악 총기 테러 부상 자 치료 비 안 받는 다', '日 대 기업 올해 평균 2 46 임금 인상',\n",
       "       'WMO 엘니뇨 여전 히 강력 2 분기 엔 소멸 될 듯',\n",
       "       '이 스라엘 네타냐후 유 대교 도 병역 문제 로 연정 협상 진통',\n",
       "       'UAE 사우디 이어 美 호르무즈 호위 연합 에 참여 키로',\n",
       "       '사우디 군 오만 해 유 조선 공격 예멘 반군 과 연결 이란 겨냥',\n",
       "       '개천 에서 용 나와 라 美 사업 가 모교 에 1천 억 원 장학 금 기부'], dtype=object)"
      ]
     },
     "execution_count": 20,
     "metadata": {},
     "output_type": "execute_result"
    }
   ],
   "source": [
    "train_data['title'].values[:20]"
   ]
  }
 ],
 "metadata": {
  "kernelspec": {
   "display_name": "Python 3",
   "language": "python",
   "name": "python3"
  },
  "language_info": {
   "codemirror_mode": {
    "name": "ipython",
    "version": 3
   },
   "file_extension": ".py",
   "mimetype": "text/x-python",
   "name": "python",
   "nbconvert_exporter": "python",
   "pygments_lexer": "ipython3",
   "version": "3.7.9"
  }
 },
 "nbformat": 4,
 "nbformat_minor": 5
}
