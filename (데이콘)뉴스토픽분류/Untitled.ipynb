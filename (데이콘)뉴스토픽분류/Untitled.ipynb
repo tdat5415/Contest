{
 "cells": [
  {
   "cell_type": "markdown",
   "id": "77d813e0",
   "metadata": {},
   "source": [
    "### Data load"
   ]
  },
  {
   "cell_type": "code",
   "execution_count": 304,
   "id": "9531e9af",
   "metadata": {},
   "outputs": [
    {
     "name": "stdout",
     "output_type": "stream",
     "text": [
      "Index(['index', 'title', 'topic_idx'], dtype='object')\n",
      "Index(['index', 'title'], dtype='object')\n",
      "Index(['index', 'topic_idx'], dtype='object')\n"
     ]
    }
   ],
   "source": [
    "import pandas as pd\n",
    "\n",
    "test_data = pd.read_csv('./open/test_data.csv')\n",
    "train_data = pd.read_csv('./open/train_data.csv')\n",
    "topic_dict = pd.read_csv('./open/topic_dict.csv')\n",
    "submission = pd.read_csv('./open/sample_submission.csv')\n",
    "\n",
    "print(train_data.columns)\n",
    "print(test_data.columns)\n",
    "print(submission.columns)"
   ]
  },
  {
   "cell_type": "markdown",
   "id": "d195e3ca",
   "metadata": {},
   "source": [
    "### 글자만 남기기"
   ]
  },
  {
   "cell_type": "code",
   "execution_count": 309,
   "id": "5f4bac9a",
   "metadata": {},
   "outputs": [
    {
     "data": {
      "text/html": [
       "<div>\n",
       "<style scoped>\n",
       "    .dataframe tbody tr th:only-of-type {\n",
       "        vertical-align: middle;\n",
       "    }\n",
       "\n",
       "    .dataframe tbody tr th {\n",
       "        vertical-align: top;\n",
       "    }\n",
       "\n",
       "    .dataframe thead th {\n",
       "        text-align: right;\n",
       "    }\n",
       "</style>\n",
       "<table border=\"1\" class=\"dataframe\">\n",
       "  <thead>\n",
       "    <tr style=\"text-align: right;\">\n",
       "      <th></th>\n",
       "      <th>index</th>\n",
       "      <th>title</th>\n",
       "      <th>topic_idx</th>\n",
       "    </tr>\n",
       "  </thead>\n",
       "  <tbody>\n",
       "    <tr>\n",
       "      <th>0</th>\n",
       "      <td>0</td>\n",
       "      <td>인천 핀란드 항공기 결항 휴가철 여행객 분통</td>\n",
       "      <td>4</td>\n",
       "    </tr>\n",
       "    <tr>\n",
       "      <th>1</th>\n",
       "      <td>1</td>\n",
       "      <td>실리콘밸리 넘어서겠다 구글   조원 들여 美전역 거점화</td>\n",
       "      <td>4</td>\n",
       "    </tr>\n",
       "    <tr>\n",
       "      <th>2</th>\n",
       "      <td>2</td>\n",
       "      <td>이란 외무 긴장완화 해결책은 미국이 경제전쟁 멈추는 것</td>\n",
       "      <td>4</td>\n",
       "    </tr>\n",
       "    <tr>\n",
       "      <th>3</th>\n",
       "      <td>3</td>\n",
       "      <td>NYT 클린턴 측근韓기업 특수관계 조명 공과 사 맞물려종합</td>\n",
       "      <td>4</td>\n",
       "    </tr>\n",
       "    <tr>\n",
       "      <th>4</th>\n",
       "      <td>4</td>\n",
       "      <td>시진핑 트럼프에 중미 무역협상 조속 타결 희망</td>\n",
       "      <td>4</td>\n",
       "    </tr>\n",
       "  </tbody>\n",
       "</table>\n",
       "</div>"
      ],
      "text/plain": [
       "   index                             title  topic_idx\n",
       "0      0          인천 핀란드 항공기 결항 휴가철 여행객 분통          4\n",
       "1      1    실리콘밸리 넘어서겠다 구글   조원 들여 美전역 거점화          4\n",
       "2      2    이란 외무 긴장완화 해결책은 미국이 경제전쟁 멈추는 것          4\n",
       "3      3  NYT 클린턴 측근韓기업 특수관계 조명 공과 사 맞물려종합          4\n",
       "4      4         시진핑 트럼프에 중미 무역협상 조속 타결 희망          4"
      ]
     },
     "execution_count": 309,
     "metadata": {},
     "output_type": "execute_result"
    }
   ],
   "source": [
    "import re\n",
    "\n",
    "# train_data['title'] = train_data['title'].map(lambda x:re.sub('[^가-힣]', ' ', x).strip())\n",
    "# test_data['title'] = test_data['title'].map(lambda x:re.sub('[^가-힣]', ' ', x).strip())\n",
    "# train_data['title'] = train_data['title'].map(lambda x:re.sub('\\W', ' ', x).strip())\n",
    "# test_data['title'] = test_data['title'].map(lambda x:re.sub('\\W', ' ', x).strip())\n",
    "train_data['title'] = train_data['title'].map(lambda x:re.sub('[\\W\\d]', ' ', x).strip())\n",
    "test_data['title'] = test_data['title'].map(lambda x:re.sub('[\\W\\d]', ' ', x).strip())\n",
    "\n",
    "\n",
    "train_data.head()"
   ]
  },
  {
   "cell_type": "markdown",
   "id": "0cec354b",
   "metadata": {},
   "source": [
    "### 3~7글자 단어, 가장 많ㅇ느 단어를 가진 뉴스의 단어수"
   ]
  },
  {
   "cell_type": "code",
   "execution_count": 358,
   "id": "e40a1612",
   "metadata": {},
   "outputs": [],
   "source": [
    "import myfunc\n",
    "\n",
    "all_news_title = train_data['title'].tolist() + test_data['title'].tolist()\n",
    "words = myfunc.get_word_list(all_news_title, 3, 7)\n",
    "num_word_list = myfunc.get_len_most_long_seq(all_news_title)"
   ]
  },
  {
   "cell_type": "markdown",
   "id": "ede52d9d",
   "metadata": {},
   "source": [
    "### 데이터 정제 (단어 분할)"
   ]
  },
  {
   "cell_type": "code",
   "execution_count": 164,
   "id": "a8a508e6",
   "metadata": {},
   "outputs": [
    {
     "name": "stderr",
     "output_type": "stream",
     "text": [
      "100%|██████████████████████████████████████████████████████████████████████████| 68971/68971 [1:25:12<00:00, 13.49it/s]\n"
     ]
    }
   ],
   "source": [
    "from tqdm import tqdm\n",
    "import re\n",
    "\n",
    "for word in tqdm(words):\n",
    "    train_data['title'] = train_data['title'].map(lambda x:x.replace(word, ' {} '.format(word)))\n",
    "    test_data['title'] = test_data['title'].map(lambda x:x.replace(word, ' {} '.format(word)))\n",
    "\n",
    "train_data['title'] = train_data['title'].map(lambda x:re.sub('\\s+', ' ', x).strip())\n",
    "test_data['title'] = test_data['title'].map(lambda x:re.sub('\\s+', ' ', x).strip())"
   ]
  },
  {
   "cell_type": "markdown",
   "id": "2d15a670",
   "metadata": {},
   "source": [
    "### 정제된 데이터 저장"
   ]
  },
  {
   "cell_type": "code",
   "execution_count": 165,
   "id": "f4d7f2c5",
   "metadata": {},
   "outputs": [],
   "source": [
    "# train_data.to_csv('./refined_train_data.csv', index=False)\n",
    "# test_data.to_csv('./refined_test_data.csv', index=False)"
   ]
  },
  {
   "cell_type": "code",
   "execution_count": null,
   "id": "e3e987ae",
   "metadata": {},
   "outputs": [],
   "source": []
  },
  {
   "cell_type": "code",
   "execution_count": null,
   "id": "afc4308b",
   "metadata": {},
   "outputs": [],
   "source": []
  },
  {
   "cell_type": "code",
   "execution_count": null,
   "id": "11cabb12",
   "metadata": {},
   "outputs": [],
   "source": []
  },
  {
   "cell_type": "markdown",
   "id": "325f2a7d",
   "metadata": {},
   "source": [
    "### 정제된 데이터 불러오기"
   ]
  },
  {
   "cell_type": "code",
   "execution_count": 36,
   "id": "8679f904",
   "metadata": {},
   "outputs": [],
   "source": [
    "import pandas as pd\n",
    "\n",
    "# train_data = pd.read_csv('./refined_train_data.csv')\n",
    "# test_data = pd.read_csv('./refined_test_data.csv')\n",
    "train_data = pd.read_csv('./refined_train_data_3word_1_no_num.csv')\n",
    "test_data = pd.read_csv('./refined_test_data_3word_1_no_num.csv')\n",
    "\n",
    "topic_dict = pd.read_csv('./open/topic_dict.csv')\n",
    "submission = pd.read_csv('./open/sample_submission.csv')\n",
    "\n",
    "num_topic = len(topic_dict)"
   ]
  },
  {
   "cell_type": "code",
   "execution_count": 37,
   "id": "2d423717",
   "metadata": {},
   "outputs": [
    {
     "name": "stdout",
     "output_type": "stream",
     "text": [
      "가장 많은 단어를 가진 뉴스의 단어수 : 14\n"
     ]
    }
   ],
   "source": [
    "import myfunc\n",
    "\n",
    "all_news_title = train_data['title'].tolist() + test_data['title'].tolist()\n",
    "num_words = len(myfunc.get_word_list(all_news_title))\n",
    "max_len_words = myfunc.get_len_most_long_seq(all_news_title)\n",
    "print('가장 많은 단어를 가진 뉴스의 단어수 :', max_len_words)"
   ]
  },
  {
   "cell_type": "markdown",
   "id": "28c7c5d1",
   "metadata": {},
   "source": [
    "### 데이터 전처리"
   ]
  },
  {
   "cell_type": "code",
   "execution_count": 38,
   "id": "61fe8334",
   "metadata": {},
   "outputs": [
    {
     "name": "stdout",
     "output_type": "stream",
     "text": [
      "67799 67758\n"
     ]
    }
   ],
   "source": [
    "from tensorflow.keras.preprocessing.text import Tokenizer\n",
    "from tensorflow.keras.preprocessing.sequence import pad_sequences\n",
    "import myfunc\n",
    "\n",
    "words = myfunc.get_word_list(all_news_title)\n",
    "\n",
    "tokenizer = Tokenizer(num_words=num_words, oov_token=\"<OOV>\")\n",
    "tokenizer.fit_on_texts(all_news_title)\n",
    "\n",
    "word_index = tokenizer.word_index\n",
    "# tokenizer.word_index = emb_model.wv.key_to_index\n",
    "\n",
    "training_sequences = tokenizer.texts_to_sequences(train_data['title'])\n",
    "training_padded = pad_sequences(training_sequences, maxlen=max_len_words, padding='post', truncating='post')\n",
    "\n",
    "testing_sequences = tokenizer.texts_to_sequences(test_data['title'])\n",
    "testing_padded1 = pad_sequences(testing_sequences, maxlen=max_len_words, padding='post', truncating='post')\n",
    "\n",
    "print(num_words, len(tokenizer.word_index))"
   ]
  },
  {
   "cell_type": "markdown",
   "id": "6d7aa19b",
   "metadata": {},
   "source": [
    "### topic 갯수에 따른 데이터 가중치 구하기"
   ]
  },
  {
   "cell_type": "code",
   "execution_count": 39,
   "id": "abccc432",
   "metadata": {},
   "outputs": [
    {
     "data": {
      "text/plain": [
       "array([1.58146766, 1.22613308, 1.03626732, 1.28585876, 1.        ,\n",
       "       1.10038944, 1.13005481])"
      ]
     },
     "execution_count": 39,
     "metadata": {},
     "output_type": "execute_result"
    }
   ],
   "source": [
    "import numpy as np\n",
    "\n",
    "num_news_per_topic = train_data.groupby('topic_idx').count()['title']\n",
    "max_topic = max(num_news_per_topic)\n",
    "weights = max_topic / np.array(num_news_per_topic)\n",
    "weights"
   ]
  },
  {
   "cell_type": "markdown",
   "id": "6c50c067",
   "metadata": {},
   "source": [
    "### 모델 정의"
   ]
  },
  {
   "cell_type": "code",
   "execution_count": 40,
   "id": "d8f9e0c9",
   "metadata": {},
   "outputs": [],
   "source": [
    "import tensorflow as tf\n",
    "\n",
    "def get_model():\n",
    "    model = tf.keras.Sequential([\n",
    "        tf.keras.layers.Embedding(num_words, 16, input_length=max_len_words),\n",
    "        tf.keras.layers.BatchNormalization(),\n",
    "        tf.keras.layers.GlobalAveragePooling1D(),\n",
    "        tf.keras.layers.Dropout(0.5),\n",
    "        tf.keras.layers.Dense(len(topic_dict['topic_idx']), activation='softmax')\n",
    "    ])\n",
    "\n",
    "    optimizer = tf.keras.optimizers.Adam(lr = 0.001)\n",
    "    # optimizer = tf.keras.optimizers.SGD(lr = 0.001, momentum=0.9)\n",
    "    model.compile(loss='sparse_categorical_crossentropy', optimizer=optimizer, metrics=['acc'])\n",
    "    return model"
   ]
  },
  {
   "cell_type": "markdown",
   "id": "bf2b5c2a",
   "metadata": {},
   "source": [
    "### KFold"
   ]
  },
  {
   "cell_type": "code",
   "execution_count": 41,
   "id": "e4a3fe5c",
   "metadata": {},
   "outputs": [
    {
     "name": "stdout",
     "output_type": "stream",
     "text": [
      "Train for 334 steps, validate for 83 steps\n",
      "Epoch 1/50\n",
      "334/334 [==============================] - 4s 13ms/step - loss: 1.3032 - acc: 0.6007 - val_loss: 1.4605 - val_acc: 0.7669\n",
      "Epoch 2/50\n",
      "334/334 [==============================] - 4s 11ms/step - loss: 0.5929 - acc: 0.8439 - val_loss: 0.5632 - val_acc: 0.8443\n",
      "Epoch 3/50\n",
      "334/334 [==============================] - 4s 11ms/step - loss: 0.3706 - acc: 0.8995 - val_loss: 0.4913 - val_acc: 0.8406\n",
      "Epoch 4/50\n",
      "334/334 [==============================] - 4s 11ms/step - loss: 0.2566 - acc: 0.9309 - val_loss: 0.5070 - val_acc: 0.8400\n",
      "Epoch 5/50\n",
      "334/334 [==============================] - 3s 10ms/step - loss: 0.1907 - acc: 0.9487 - val_loss: 0.5439 - val_acc: 0.8361\n",
      "Epoch 6/50\n",
      "334/334 [==============================] - 3s 10ms/step - loss: 0.1480 - acc: 0.9591 - val_loss: 0.5949 - val_acc: 0.8267\n",
      "Train for 334 steps, validate for 83 steps\n",
      "Epoch 1/50\n",
      "334/334 [==============================] - 5s 14ms/step - loss: 1.2680 - acc: 0.6114 - val_loss: 1.4513 - val_acc: 0.7909\n",
      "Epoch 2/50\n",
      "334/334 [==============================] - 4s 11ms/step - loss: 0.5634 - acc: 0.8506 - val_loss: 0.5753 - val_acc: 0.8357\n",
      "Epoch 3/50\n",
      "334/334 [==============================] - 3s 10ms/step - loss: 0.3506 - acc: 0.9052 - val_loss: 0.4996 - val_acc: 0.8421\n",
      "Epoch 4/50\n",
      "334/334 [==============================] - 3s 10ms/step - loss: 0.2387 - acc: 0.9366 - val_loss: 0.5282 - val_acc: 0.8288\n",
      "Epoch 5/50\n",
      "334/334 [==============================] - 3s 10ms/step - loss: 0.1763 - acc: 0.9530 - val_loss: 0.5639 - val_acc: 0.8278\n",
      "Epoch 6/50\n",
      "334/334 [==============================] - 3s 10ms/step - loss: 0.1335 - acc: 0.9649 - val_loss: 0.6192 - val_acc: 0.8157\n",
      "Train for 334 steps, validate for 83 steps\n",
      "Epoch 1/50\n",
      "334/334 [==============================] - 5s 14ms/step - loss: 1.2748 - acc: 0.6140 - val_loss: 1.4445 - val_acc: 0.7688\n",
      "Epoch 2/50\n",
      "334/334 [==============================] - 4s 11ms/step - loss: 0.5685 - acc: 0.8515 - val_loss: 0.5645 - val_acc: 0.8341\n",
      "Epoch 3/50\n",
      "334/334 [==============================] - 4s 11ms/step - loss: 0.3592 - acc: 0.9022 - val_loss: 0.4991 - val_acc: 0.8374\n",
      "Epoch 4/50\n",
      "334/334 [==============================] - 4s 11ms/step - loss: 0.2450 - acc: 0.9340 - val_loss: 0.5230 - val_acc: 0.8301\n",
      "Epoch 5/50\n",
      "334/334 [==============================] - 4s 11ms/step - loss: 0.1798 - acc: 0.9522 - val_loss: 0.5484 - val_acc: 0.8330\n",
      "Epoch 6/50\n",
      "334/334 [==============================] - 3s 10ms/step - loss: 0.1426 - acc: 0.9618 - val_loss: 0.6194 - val_acc: 0.8200\n",
      "Train for 334 steps, validate for 83 steps\n",
      "Epoch 1/50\n",
      "334/334 [==============================] - 4s 13ms/step - loss: 1.2639 - acc: 0.6062 - val_loss: 1.4496 - val_acc: 0.7999\n",
      "Epoch 2/50\n",
      "334/334 [==============================] - 3s 10ms/step - loss: 0.5845 - acc: 0.8402 - val_loss: 0.5821 - val_acc: 0.8363\n",
      "Epoch 3/50\n",
      "334/334 [==============================] - 4s 10ms/step - loss: 0.3689 - acc: 0.8977 - val_loss: 0.5175 - val_acc: 0.8341\n",
      "Epoch 4/50\n",
      "334/334 [==============================] - 4s 11ms/step - loss: 0.2521 - acc: 0.9310 - val_loss: 0.5281 - val_acc: 0.8350\n",
      "Epoch 5/50\n",
      "334/334 [==============================] - 4s 11ms/step - loss: 0.1868 - acc: 0.9481 - val_loss: 0.5841 - val_acc: 0.8256\n",
      "Epoch 6/50\n",
      "334/334 [==============================] - 3s 10ms/step - loss: 0.1475 - acc: 0.9587 - val_loss: 0.6218 - val_acc: 0.8228\n",
      "Train for 334 steps, validate for 83 steps\n",
      "Epoch 1/50\n",
      "334/334 [==============================] - 4s 13ms/step - loss: 1.2871 - acc: 0.6099 - val_loss: 1.4590 - val_acc: 0.7750\n",
      "Epoch 2/50\n",
      "334/334 [==============================] - 3s 10ms/step - loss: 0.5778 - acc: 0.8492 - val_loss: 0.5816 - val_acc: 0.8403\n",
      "Epoch 3/50\n",
      "334/334 [==============================] - 3s 10ms/step - loss: 0.3617 - acc: 0.9034 - val_loss: 0.5164 - val_acc: 0.8370\n",
      "Epoch 4/50\n",
      "334/334 [==============================] - 4s 11ms/step - loss: 0.2473 - acc: 0.9324 - val_loss: 0.5252 - val_acc: 0.8333\n",
      "Epoch 5/50\n",
      "334/334 [==============================] - 3s 10ms/step - loss: 0.1837 - acc: 0.9504 - val_loss: 0.5594 - val_acc: 0.8299\n",
      "Epoch 6/50\n",
      "334/334 [==============================] - 3s 10ms/step - loss: 0.1377 - acc: 0.9636 - val_loss: 0.6025 - val_acc: 0.8254\n"
     ]
    }
   ],
   "source": [
    "from sklearn.model_selection import KFold\n",
    "import myfunc\n",
    "import tensorflow as tf\n",
    "import numpy as np\n",
    "\n",
    "BATCH_SIZE = 128\n",
    "# callback1 = myfunc.HybridScheduler()\n",
    "callback2 = tf.keras.callbacks.EarlyStopping(patience=3, restore_best_weights=True, monitor='val_loss')\n",
    "models1 = []\n",
    "historys1 = []\n",
    "\n",
    "for tra_ind, val_ind in KFold(shuffle=True).split(range(len(training_padded))):\n",
    "    tra_padded = training_padded[tra_ind]\n",
    "    tra_idx = train_data['topic_idx'][tra_ind]\n",
    "    val_padded = training_padded[val_ind]\n",
    "    val_idx = train_data['topic_idx'][val_ind]\n",
    "    \n",
    "    train_ds, valid_ds = myfunc.data_to_dataset(tra_padded, val_padded, \n",
    "                                                tra_idx, val_idx, \n",
    "                                                weights, num_topic,\n",
    "                                                BATCH_SIZE=BATCH_SIZE)\n",
    "    steps_per_epoch = np.ceil(num_topic * max_topic / BATCH_SIZE)\n",
    "\n",
    "    model = get_model()\n",
    "    num_epochs = 50\n",
    "    history = model.fit(train_ds, \n",
    "                        validation_data=valid_ds, \n",
    "                        steps_per_epoch=int(steps_per_epoch*0.8),\n",
    "                        validation_steps=int(steps_per_epoch*0.2),\n",
    "                        epochs=num_epochs, \n",
    "                        callbacks=[callback2])\n",
    "    \n",
    "    models1.append(model)\n",
    "    historys1.append(history)"
   ]
  },
  {
   "cell_type": "markdown",
   "id": "d0aa092f",
   "metadata": {},
   "source": [
    "### 또다른 정제된 데이터를 이용한 프로세스"
   ]
  },
  {
   "cell_type": "code",
   "execution_count": 42,
   "id": "d4cba7d9",
   "metadata": {},
   "outputs": [],
   "source": [
    "import pandas as pd\n",
    "\n",
    "# train_data = pd.read_csv('./refined_train_data.csv')\n",
    "# test_data = pd.read_csv('./refined_test_data.csv')\n",
    "train_data = pd.read_csv('./refined_train_data_2word_1_no_num.csv')\n",
    "test_data = pd.read_csv('./refined_test_data_2word_1_no_num.csv')\n",
    "\n",
    "topic_dict = pd.read_csv('./open/topic_dict.csv')\n",
    "submission = pd.read_csv('./open/sample_submission.csv')\n",
    "\n",
    "num_topic = len(topic_dict)"
   ]
  },
  {
   "cell_type": "code",
   "execution_count": 43,
   "id": "85027d90",
   "metadata": {},
   "outputs": [
    {
     "name": "stdout",
     "output_type": "stream",
     "text": [
      "가장 많은 단어를 가진 뉴스의 단어수 : 19\n"
     ]
    }
   ],
   "source": [
    "import myfunc\n",
    "\n",
    "all_news_title = train_data['title'].tolist() + test_data['title'].tolist()\n",
    "num_words = len(myfunc.get_word_list(all_news_title))\n",
    "max_len_words = myfunc.get_len_most_long_seq(all_news_title)\n",
    "print('가장 많은 단어를 가진 뉴스의 단어수 :', max_len_words)"
   ]
  },
  {
   "cell_type": "code",
   "execution_count": 44,
   "id": "78251316",
   "metadata": {},
   "outputs": [
    {
     "name": "stdout",
     "output_type": "stream",
     "text": [
      "25802 25724\n"
     ]
    }
   ],
   "source": [
    "from tensorflow.keras.preprocessing.text import Tokenizer\n",
    "from tensorflow.keras.preprocessing.sequence import pad_sequences\n",
    "import myfunc\n",
    "\n",
    "words = myfunc.get_word_list(all_news_title)\n",
    "\n",
    "tokenizer = Tokenizer(num_words=num_words, oov_token=\"<OOV>\")\n",
    "tokenizer.fit_on_texts(all_news_title)\n",
    "\n",
    "word_index = tokenizer.word_index\n",
    "# tokenizer.word_index = emb_model.wv.key_to_index\n",
    "\n",
    "training_sequences = tokenizer.texts_to_sequences(train_data['title'])\n",
    "training_padded = pad_sequences(training_sequences, maxlen=max_len_words, padding='post', truncating='post')\n",
    "\n",
    "testing_sequences = tokenizer.texts_to_sequences(test_data['title'])\n",
    "testing_padded2 = pad_sequences(testing_sequences, maxlen=max_len_words, padding='post', truncating='post')\n",
    "\n",
    "print(num_words, len(tokenizer.word_index))"
   ]
  },
  {
   "cell_type": "code",
   "execution_count": 45,
   "id": "6985bd81",
   "metadata": {},
   "outputs": [
    {
     "name": "stdout",
     "output_type": "stream",
     "text": [
      "Train for 334 steps, validate for 83 steps\n",
      "Epoch 1/50\n",
      "334/334 [==============================] - 3s 10ms/step - loss: 1.1946 - acc: 0.6577 - val_loss: 1.3941 - val_acc: 0.7825\n",
      "Epoch 2/50\n",
      "334/334 [==============================] - 2s 7ms/step - loss: 0.5795 - acc: 0.8447 - val_loss: 0.5066 - val_acc: 0.8584\n",
      "Epoch 3/50\n",
      "334/334 [==============================] - 2s 7ms/step - loss: 0.4297 - acc: 0.8807 - val_loss: 0.4405 - val_acc: 0.8605\n",
      "Epoch 4/50\n",
      "334/334 [==============================] - 2s 7ms/step - loss: 0.3486 - acc: 0.9007 - val_loss: 0.4480 - val_acc: 0.8524\n",
      "Epoch 5/50\n",
      "334/334 [==============================] - 2s 7ms/step - loss: 0.2959 - acc: 0.9139 - val_loss: 0.4647 - val_acc: 0.8490\n",
      "Epoch 6/50\n",
      "334/334 [==============================] - 2s 7ms/step - loss: 0.2586 - acc: 0.9246 - val_loss: 0.4908 - val_acc: 0.8458\n",
      "Train for 334 steps, validate for 83 steps\n",
      "Epoch 1/50\n",
      "334/334 [==============================] - 4s 11ms/step - loss: 1.1976 - acc: 0.6584 - val_loss: 1.4040 - val_acc: 0.7796\n",
      "Epoch 2/50\n",
      "334/334 [==============================] - 2s 7ms/step - loss: 0.5781 - acc: 0.8459 - val_loss: 0.5054 - val_acc: 0.8573\n",
      "Epoch 3/50\n",
      "334/334 [==============================] - 2s 7ms/step - loss: 0.4297 - acc: 0.8831 - val_loss: 0.4444 - val_acc: 0.8628\n",
      "Epoch 4/50\n",
      "334/334 [==============================] - 3s 8ms/step - loss: 0.3507 - acc: 0.8997 - val_loss: 0.4619 - val_acc: 0.8546\n",
      "Epoch 5/50\n",
      "334/334 [==============================] - 2s 7ms/step - loss: 0.2964 - acc: 0.9143 - val_loss: 0.4839 - val_acc: 0.8447\n",
      "Epoch 6/50\n",
      "334/334 [==============================] - 2s 7ms/step - loss: 0.2562 - acc: 0.9255 - val_loss: 0.4994 - val_acc: 0.8504\n",
      "Train for 334 steps, validate for 83 steps\n",
      "Epoch 1/50\n",
      "334/334 [==============================] - 3s 10ms/step - loss: 1.2134 - acc: 0.6641 - val_loss: 1.4072 - val_acc: 0.8120\n",
      "Epoch 2/50\n",
      "334/334 [==============================] - 2s 7ms/step - loss: 0.5870 - acc: 0.8459 - val_loss: 0.5025 - val_acc: 0.8586\n",
      "Epoch 3/50\n",
      "334/334 [==============================] - 2s 7ms/step - loss: 0.4362 - acc: 0.8784 - val_loss: 0.4345 - val_acc: 0.8626\n",
      "Epoch 4/50\n",
      "334/334 [==============================] - 2s 7ms/step - loss: 0.3574 - acc: 0.8983 - val_loss: 0.4437 - val_acc: 0.8564\n",
      "Epoch 5/50\n",
      "334/334 [==============================] - 2s 7ms/step - loss: 0.3035 - acc: 0.9124 - val_loss: 0.4600 - val_acc: 0.8530\n",
      "Epoch 6/50\n",
      "334/334 [==============================] - 2s 7ms/step - loss: 0.2628 - acc: 0.9244 - val_loss: 0.4808 - val_acc: 0.8497\n",
      "Train for 334 steps, validate for 83 steps\n",
      "Epoch 1/50\n",
      "334/334 [==============================] - 3s 9ms/step - loss: 1.1938 - acc: 0.6618 - val_loss: 1.3923 - val_acc: 0.7980\n",
      "Epoch 2/50\n",
      "334/334 [==============================] - 2s 7ms/step - loss: 0.5886 - acc: 0.8397 - val_loss: 0.5033 - val_acc: 0.8607\n",
      "Epoch 3/50\n",
      "334/334 [==============================] - 2s 7ms/step - loss: 0.4364 - acc: 0.8759 - val_loss: 0.4282 - val_acc: 0.8617\n",
      "Epoch 4/50\n",
      "334/334 [==============================] - 2s 7ms/step - loss: 0.3556 - acc: 0.8960 - val_loss: 0.4420 - val_acc: 0.8544\n",
      "Epoch 5/50\n",
      "334/334 [==============================] - 2s 7ms/step - loss: 0.3061 - acc: 0.9083 - val_loss: 0.4531 - val_acc: 0.8537\n",
      "Epoch 6/50\n",
      "334/334 [==============================] - 2s 7ms/step - loss: 0.2664 - acc: 0.9210 - val_loss: 0.4940 - val_acc: 0.8420\n",
      "Train for 334 steps, validate for 83 steps\n",
      "Epoch 1/50\n",
      "334/334 [==============================] - 3s 10ms/step - loss: 1.1972 - acc: 0.6579 - val_loss: 1.4028 - val_acc: 0.8109\n",
      "Epoch 2/50\n",
      "334/334 [==============================] - 2s 7ms/step - loss: 0.5907 - acc: 0.8417 - val_loss: 0.5006 - val_acc: 0.8652\n",
      "Epoch 3/50\n",
      "334/334 [==============================] - 2s 7ms/step - loss: 0.4387 - acc: 0.8779 - val_loss: 0.4303 - val_acc: 0.8635\n",
      "Epoch 4/50\n",
      "334/334 [==============================] - 2s 7ms/step - loss: 0.3557 - acc: 0.8965 - val_loss: 0.4456 - val_acc: 0.8571\n",
      "Epoch 5/50\n",
      "334/334 [==============================] - 2s 7ms/step - loss: 0.3095 - acc: 0.9101 - val_loss: 0.4586 - val_acc: 0.8519\n",
      "Epoch 6/50\n",
      "334/334 [==============================] - 2s 7ms/step - loss: 0.2666 - acc: 0.9210 - val_loss: 0.4894 - val_acc: 0.8492\n"
     ]
    }
   ],
   "source": [
    "from sklearn.model_selection import KFold\n",
    "import myfunc\n",
    "import tensorflow as tf\n",
    "import numpy as np\n",
    "\n",
    "BATCH_SIZE = 128\n",
    "# callback1 = myfunc.HybridScheduler()\n",
    "callback2 = tf.keras.callbacks.EarlyStopping(patience=3, restore_best_weights=True, monitor='val_loss')\n",
    "\n",
    "models2 = []\n",
    "historys2 = []\n",
    "\n",
    "for tra_ind, val_ind in KFold(shuffle=True).split(range(len(training_padded))):\n",
    "    tra_padded = training_padded[tra_ind]\n",
    "    tra_idx = train_data['topic_idx'][tra_ind]\n",
    "    val_padded = training_padded[val_ind]\n",
    "    val_idx = train_data['topic_idx'][val_ind]\n",
    "    \n",
    "    train_ds, valid_ds = myfunc.data_to_dataset(tra_padded, val_padded, \n",
    "                                                tra_idx, val_idx, \n",
    "                                                weights, num_topic,\n",
    "                                                BATCH_SIZE=BATCH_SIZE)\n",
    "    steps_per_epoch = np.ceil(num_topic * max_topic / BATCH_SIZE)\n",
    "\n",
    "    model = get_model()\n",
    "    num_epochs = 50\n",
    "    history = model.fit(train_ds, \n",
    "                        validation_data=valid_ds, \n",
    "                        steps_per_epoch=int(steps_per_epoch*0.8),\n",
    "                        validation_steps=int(steps_per_epoch*0.2),\n",
    "                        epochs=num_epochs, \n",
    "                        callbacks=[callback2])\n",
    "    \n",
    "    models2.append(model)\n",
    "    historys2.append(history)"
   ]
  },
  {
   "cell_type": "code",
   "execution_count": null,
   "id": "41430a67",
   "metadata": {},
   "outputs": [],
   "source": []
  },
  {
   "cell_type": "code",
   "execution_count": 46,
   "id": "11d8e24c",
   "metadata": {},
   "outputs": [
    {
     "name": "stderr",
     "output_type": "stream",
     "text": [
      "100%|█████████████████████████████████████████████████████████████████████████████| 9131/9131 [00:11<00:00, 792.31it/s]\n",
      "100%|█████████████████████████████████████████████████████████████████████████████| 9131/9131 [00:11<00:00, 824.52it/s]\n"
     ]
    }
   ],
   "source": [
    "from tqdm import tqdm\n",
    "import numpy as np\n",
    "\n",
    "batch_sequence = []\n",
    "pred_regression1 = []\n",
    "pred_regression2 = []\n",
    "\n",
    "################################\n",
    "\n",
    "for sequence in tqdm(testing_padded1):\n",
    "    batch_sequence.append(sequence)\n",
    "    if BATCH_SIZE <= len(batch_sequence):\n",
    "        batch_sequence = np.stack(batch_sequence)\n",
    "        batch_pred = np.zeros((len(batch_sequence), num_topic))\n",
    "        for m in models1:\n",
    "            batch_pred += m.predict(batch_sequence)\n",
    "        pred_regression1.append(batch_pred)\n",
    "        batch_sequence = []\n",
    "if 0 < len(batch_sequence):\n",
    "    batch_sequence = np.stack(batch_sequence)\n",
    "    batch_pred = np.zeros((len(batch_sequence), num_topic))\n",
    "    for m in models1: \n",
    "        batch_pred += m.predict(batch_sequence)\n",
    "    pred_regression1.append(batch_pred)\n",
    "    batch_sequence = []\n",
    "    \n",
    "pred_regression1 = np.concatenate(pred_regression1)\n",
    "\n",
    "################################\n",
    "\n",
    "for sequence in tqdm(testing_padded2):\n",
    "    batch_sequence.append(sequence)\n",
    "    if BATCH_SIZE <= len(batch_sequence):\n",
    "        batch_sequence = np.stack(batch_sequence)\n",
    "        batch_pred = np.zeros((len(batch_sequence), num_topic))\n",
    "        for m in models2:\n",
    "            batch_pred += m.predict(batch_sequence)\n",
    "        pred_regression2.append(batch_pred)\n",
    "        batch_sequence = []\n",
    "if 0 < len(batch_sequence):\n",
    "    batch_sequence = np.stack(batch_sequence)\n",
    "    batch_pred = np.zeros((len(batch_sequence), num_topic))\n",
    "    for m in models2: \n",
    "        batch_pred += m.predict(batch_sequence)\n",
    "    pred_regression2.append(batch_pred)\n",
    "    batch_sequence = []\n",
    "    \n",
    "pred_regression2 = np.concatenate(pred_regression2)\n",
    "    \n",
    "    \n",
    "pred_idx = np.argmax(pred_regression1 + pred_regression2, axis=-1)"
   ]
  },
  {
   "cell_type": "code",
   "execution_count": null,
   "id": "8e0c20a0",
   "metadata": {},
   "outputs": [],
   "source": []
  },
  {
   "cell_type": "code",
   "execution_count": null,
   "id": "4ddfbdf9",
   "metadata": {},
   "outputs": [],
   "source": []
  },
  {
   "cell_type": "code",
   "execution_count": null,
   "id": "ccd89a47",
   "metadata": {},
   "outputs": [],
   "source": []
  },
  {
   "cell_type": "code",
   "execution_count": null,
   "id": "cd52d896",
   "metadata": {},
   "outputs": [],
   "source": []
  },
  {
   "cell_type": "markdown",
   "id": "6bbcf0ed",
   "metadata": {},
   "source": [
    "### 가중치 적용한 데이터셋"
   ]
  },
  {
   "cell_type": "code",
   "execution_count": null,
   "id": "489edc91",
   "metadata": {},
   "outputs": [],
   "source": [
    "import myfunc\n",
    "\n",
    "BATCH_SIZE = 128\n",
    "train_ds, valid_ds = myfunc.data_to_dataset(tra_padded, val_padded, \n",
    "                                            tra_idx, val_idx, \n",
    "                                            weights, BATCH_SIZE=BATCH_SIZE)\n",
    "steps_per_epoch = np.ceil(len(topic_dict['topic_idx']) * max_topic / BATCH_SIZE)"
   ]
  },
  {
   "cell_type": "code",
   "execution_count": 383,
   "id": "4aad9508",
   "metadata": {},
   "outputs": [
    {
     "ename": "AttributeError",
     "evalue": "module 'myfunc' has no attribute 'HybridScheduler'",
     "output_type": "error",
     "traceback": [
      "\u001b[1;31m---------------------------------------------------------------------------\u001b[0m",
      "\u001b[1;31mAttributeError\u001b[0m                            Traceback (most recent call last)",
      "\u001b[1;32m<ipython-input-383-3a4915535c92>\u001b[0m in \u001b[0;36m<module>\u001b[1;34m\u001b[0m\n\u001b[0;32m      1\u001b[0m \u001b[1;32mimport\u001b[0m \u001b[0mmyfunc\u001b[0m\u001b[1;33m\u001b[0m\u001b[1;33m\u001b[0m\u001b[0m\n\u001b[0;32m      2\u001b[0m \u001b[1;33m\u001b[0m\u001b[0m\n\u001b[1;32m----> 3\u001b[1;33m \u001b[0mcallback1\u001b[0m \u001b[1;33m=\u001b[0m \u001b[0mmyfunc\u001b[0m\u001b[1;33m.\u001b[0m\u001b[0mHybridScheduler\u001b[0m\u001b[1;33m(\u001b[0m\u001b[1;33m)\u001b[0m\u001b[1;33m\u001b[0m\u001b[1;33m\u001b[0m\u001b[0m\n\u001b[0m\u001b[0;32m      4\u001b[0m \u001b[0mcallback2\u001b[0m \u001b[1;33m=\u001b[0m \u001b[0mtf\u001b[0m\u001b[1;33m.\u001b[0m\u001b[0mkeras\u001b[0m\u001b[1;33m.\u001b[0m\u001b[0mcallbacks\u001b[0m\u001b[1;33m.\u001b[0m\u001b[0mEarlyStopping\u001b[0m\u001b[1;33m(\u001b[0m\u001b[0mpatience\u001b[0m\u001b[1;33m=\u001b[0m\u001b[1;36m3\u001b[0m\u001b[1;33m,\u001b[0m \u001b[0mrestore_best_weights\u001b[0m\u001b[1;33m=\u001b[0m\u001b[1;32mTrue\u001b[0m\u001b[1;33m,\u001b[0m \u001b[0mmonitor\u001b[0m\u001b[1;33m=\u001b[0m\u001b[1;34m'val_loss'\u001b[0m\u001b[1;33m)\u001b[0m\u001b[1;33m\u001b[0m\u001b[1;33m\u001b[0m\u001b[0m\n",
      "\u001b[1;31mAttributeError\u001b[0m: module 'myfunc' has no attribute 'HybridScheduler'"
     ]
    }
   ],
   "source": [
    "import myfunc\n",
    "\n",
    "callback1 = myfunc.HybridScheduler()\n",
    "callback2 = tf.keras.callbacks.EarlyStopping(patience=3, restore_best_weights=True, monitor='val_loss')"
   ]
  },
  {
   "cell_type": "markdown",
   "id": "c9d45b26",
   "metadata": {},
   "source": [
    "### 훈련"
   ]
  },
  {
   "cell_type": "code",
   "execution_count": 269,
   "id": "ef1aa3ae",
   "metadata": {},
   "outputs": [
    {
     "name": "stdout",
     "output_type": "stream",
     "text": [
      "Train for 334 steps, validate for 83 steps\n",
      "Epoch 1/100\n",
      "334/334 [==============================] - 3s 9ms/step - loss: 1.2399 - acc: 0.6574 - val_loss: 1.4182 - val_acc: 0.8266\n",
      "Epoch 2/100\n",
      "334/334 [==============================] - 2s 7ms/step - loss: 0.6019 - acc: 0.8440 - val_loss: 0.5104 - val_acc: 0.8601\n",
      "Epoch 3/100\n",
      "334/334 [==============================] - 2s 7ms/step - loss: 0.4469 - acc: 0.8770 - val_loss: 0.4321 - val_acc: 0.8622\n",
      "Epoch 4/100\n",
      "334/334 [==============================] - 2s 7ms/step - loss: 0.3681 - acc: 0.8946 - val_loss: 0.4386 - val_acc: 0.8631\n",
      "Epoch 5/100\n",
      "334/334 [==============================] - 2s 7ms/step - loss: 0.3215 - acc: 0.9070 - val_loss: 0.4626 - val_acc: 0.8540\n",
      "Epoch 6/100\n",
      "334/334 [==============================] - 2s 7ms/step - loss: 0.2734 - acc: 0.9196 - val_loss: 0.4737 - val_acc: 0.8551\n"
     ]
    }
   ],
   "source": [
    "num_epochs = 50\n",
    "history = model.fit(train_ds, \n",
    "                    validation_data=valid_ds, \n",
    "                    steps_per_epoch=int(steps_per_epoch*0.8),\n",
    "                    validation_steps=int(steps_per_epoch*0.2),\n",
    "                    epochs=num_epochs, \n",
    "                    callbacks=[callback2])\n",
    "#                     callbacks=[callback2, callback2])"
   ]
  },
  {
   "cell_type": "code",
   "execution_count": 270,
   "id": "7ae889a4",
   "metadata": {},
   "outputs": [
    {
     "data": {
      "image/png": "[encoded data removed]",
      "text/plain": [
       "<Figure size 1008x360 with 2 Axes>"
      ]
     },
     "metadata": {
      "needs_background": "light"
     },
     "output_type": "display_data"
    }
   ],
   "source": [
    "import matplotlib.pyplot as plt\n",
    "\n",
    "def show_history(history, start=0):\n",
    "    fig = plt.figure(figsize=(14,5))\n",
    "    ax1 = fig.add_subplot(1, 2, 1)\n",
    "    ax2 = fig.add_subplot(1, 2, 2)\n",
    "    ax1.plot(history.history['loss'][start:], label='loss')\n",
    "    ax1.plot(history.history['val_loss'][start:], label='val_loss')\n",
    "    ax1.grid()\n",
    "    ax1.legend()\n",
    "    ax2.plot(history.history['acc'][start:], label='acc')\n",
    "    ax2.plot(history.history['val_acc'][start:], label='val_acc')\n",
    "    ax2.grid()\n",
    "    ax2.legend()\n",
    "\n",
    "    plt.show()\n",
    "\n",
    "show_history(history)"
   ]
  },
  {
   "cell_type": "code",
   "execution_count": null,
   "id": "2549e8bd",
   "metadata": {},
   "outputs": [],
   "source": []
  },
  {
   "cell_type": "code",
   "execution_count": null,
   "id": "e3d2242b",
   "metadata": {},
   "outputs": [],
   "source": []
  },
  {
   "cell_type": "code",
   "execution_count": null,
   "id": "b1a863e5",
   "metadata": {},
   "outputs": [],
   "source": []
  },
  {
   "cell_type": "code",
   "execution_count": null,
   "id": "e4ab97eb",
   "metadata": {},
   "outputs": [],
   "source": []
  },
  {
   "cell_type": "code",
   "execution_count": null,
   "id": "a2b3593f",
   "metadata": {},
   "outputs": [],
   "source": []
  },
  {
   "cell_type": "markdown",
   "id": "8b767568",
   "metadata": {},
   "source": [
    "### predict"
   ]
  },
  {
   "cell_type": "code",
   "execution_count": 271,
   "id": "b9942750",
   "metadata": {},
   "outputs": [
    {
     "name": "stderr",
     "output_type": "stream",
     "text": [
      "100%|████████████████████████████████████████████████████████████████████████████| 9131/9131 [00:02<00:00, 3735.25it/s]\n"
     ]
    }
   ],
   "source": [
    "from tqdm import tqdm\n",
    "import numpy as np\n",
    "\n",
    "pred_idx = []\n",
    "batch_sequence = []\n",
    "\n",
    "for sequence in tqdm(testing_padded):\n",
    "    batch_sequence.append(sequence)\n",
    "    if 128 <= len(batch_sequence):\n",
    "        batch_sequence = np.stack(batch_sequence)\n",
    "        batch_pred = model.predict(batch_sequence)\n",
    "        batch_pred = np.argmax(batch_pred, axis=-1)\n",
    "        pred_idx.append(batch_pred)\n",
    "        batch_sequence = []\n",
    "        \n",
    "if 0 < len(batch_sequence):\n",
    "    batch_sequence = np.stack(batch_sequence)\n",
    "    batch_pred = model.predict(batch_sequence)\n",
    "    batch_pred = np.argmax(batch_pred, axis=-1)\n",
    "    pred_idx.append(batch_pred)\n",
    "    batch_sequence = []\n",
    "\n",
    "pred_idx = np.concatenate(pred_idx)"
   ]
  },
  {
   "cell_type": "code",
   "execution_count": 272,
   "id": "581904d7",
   "metadata": {},
   "outputs": [
    {
     "data": {
      "text/plain": [
       "9131"
      ]
     },
     "execution_count": 272,
     "metadata": {},
     "output_type": "execute_result"
    }
   ],
   "source": [
    "len(pred_idx)"
   ]
  },
  {
   "cell_type": "markdown",
   "id": "9a008efa",
   "metadata": {},
   "source": [
    "### submission csv만들기"
   ]
  },
  {
   "cell_type": "code",
   "execution_count": 59,
   "id": "43eaaa01",
   "metadata": {},
   "outputs": [],
   "source": [
    "submission['topic_idx'] = pred_idx\n",
    "submission.to_csv('./submission/submission5.csv', index=False)"
   ]
  },
  {
   "cell_type": "code",
   "execution_count": null,
   "id": "a7094ba3",
   "metadata": {},
   "outputs": [],
   "source": []
  },
  {
   "cell_type": "code",
   "execution_count": null,
   "id": "a3dfdf52",
   "metadata": {},
   "outputs": [],
   "source": []
  },
  {
   "cell_type": "code",
   "execution_count": 58,
   "id": "065a8c87",
   "metadata": {},
   "outputs": [],
   "source": [
    "pred_idx = np.argmax(pred_regression1, axis=-1)"
   ]
  },
  {
   "cell_type": "code",
   "execution_count": null,
   "id": "10955a07",
   "metadata": {},
   "outputs": [],
   "source": []
  },
  {
   "cell_type": "code",
   "execution_count": 274,
   "id": "8e6b1b7f",
   "metadata": {},
   "outputs": [],
   "source": []
  },
  {
   "cell_type": "code",
   "execution_count": 292,
   "id": "88dd5a6e",
   "metadata": {},
   "outputs": [
    {
     "name": "stdout",
     "output_type": "stream",
     "text": [
      "[0 2 3 4 6 7 8 9] [1 5]\n",
      "[0 1 3 4 5 7 8 9] [2 6]\n",
      "[0 1 2 4 5 6 7 8] [3 9]\n",
      "[1 2 3 4 5 6 7 9] [0 8]\n",
      "[0 1 2 3 5 6 8 9] [4 7]\n"
     ]
    }
   ],
   "source": [
    "from sklearn.model_selection import KFold\n",
    "\n",
    "for tra_ind, val_ind in KFold(shuffle=True).split(range(10)):\n",
    "    print(tra_ind, val_ind)"
   ]
  },
  {
   "cell_type": "code",
   "execution_count": null,
   "id": "e0fb721d",
   "metadata": {},
   "outputs": [],
   "source": []
  },
  {
   "cell_type": "code",
   "execution_count": null,
   "id": "8b1f5699",
   "metadata": {},
   "outputs": [],
   "source": []
  },
  {
   "cell_type": "code",
   "execution_count": null,
   "id": "947407f4",
   "metadata": {},
   "outputs": [],
   "source": [
    "tra_padded, val_padded, tra_idx, val_idx"
   ]
  },
  {
   "cell_type": "code",
   "execution_count": null,
   "id": "fd0cee3b",
   "metadata": {},
   "outputs": [],
   "source": [
    "training_padded, train_data['topic_idx']"
   ]
  },
  {
   "cell_type": "code",
   "execution_count": 250,
   "id": "5dce60ea",
   "metadata": {},
   "outputs": [
    {
     "name": "stderr",
     "output_type": "stream",
     "text": [
      "C:\\____anaconda2020\\envs\\tfgpu\\lib\\site-packages\\xgboost\\sklearn.py:1146: UserWarning: The use of label encoder in XGBClassifier is deprecated and will be removed in a future release. To remove this warning, do the following: 1) Pass option use_label_encoder=False when constructing XGBClassifier object; and 2) Encode your labels (y) as integers starting with 0, i.e. 0, 1, 2, ..., [num_class - 1].\n",
      "  warnings.warn(label_encoder_deprecation_msg, UserWarning)\n"
     ]
    },
    {
     "name": "stdout",
     "output_type": "stream",
     "text": [
      "[18:29:26] WARNING: ..\\src\\learner.cc:1095: Starting in XGBoost 1.3.0, the default evaluation metric used with the objective 'multi:softprob' was changed from 'merror' to 'mlogloss'. Explicitly set eval_metric if you'd like to restore the old behavior.\n"
     ]
    },
    {
     "data": {
      "text/plain": [
       "XGBClassifier(base_score=0.5, booster='gbtree', colsample_bylevel=1,\n",
       "              colsample_bynode=1, colsample_bytree=1, gamma=0, gpu_id=-1,\n",
       "              importance_type='gain', interaction_constraints='',\n",
       "              learning_rate=0.300000012, max_delta_step=0, max_depth=6,\n",
       "              min_child_weight=1, missing=nan, monotone_constraints='()',\n",
       "              n_estimators=200, n_jobs=12, num_parallel_tree=1,\n",
       "              objective='multi:softprob', random_state=0, reg_alpha=0,\n",
       "              reg_lambda=1, scale_pos_weight=None, subsample=1,\n",
       "              tree_method='exact', validate_parameters=1, verbosity=None)"
      ]
     },
     "execution_count": 250,
     "metadata": {},
     "output_type": "execute_result"
    }
   ],
   "source": [
    "from xgboost import XGBClassifier\n",
    "\n",
    "mm = XGBClassifier(n_estimators=200)#, learning_rate=1e-2)\n",
    "mm.fit(tra_padded, tra_idx)"
   ]
  },
  {
   "cell_type": "code",
   "execution_count": 251,
   "id": "e51b16b3",
   "metadata": {},
   "outputs": [],
   "source": [
    "tt = mm.predict(tra_padded)\n",
    "vv = mm.predict(val_padded)"
   ]
  },
  {
   "cell_type": "code",
   "execution_count": 234,
   "id": "bf2704b6",
   "metadata": {},
   "outputs": [],
   "source": [
    "from sklearn import metrics"
   ]
  },
  {
   "cell_type": "code",
   "execution_count": 252,
   "id": "985bab2a",
   "metadata": {},
   "outputs": [
    {
     "name": "stdout",
     "output_type": "stream",
     "text": [
      "0.9436088395638629\n",
      "0.668418747262374\n"
     ]
    }
   ],
   "source": [
    "print(metrics.accuracy_score(tra_idx,tt))\n",
    "print(metrics.accuracy_score(val_idx,vv))"
   ]
  },
  {
   "cell_type": "code",
   "execution_count": null,
   "id": "32af1583",
   "metadata": {},
   "outputs": [],
   "source": []
  },
  {
   "cell_type": "code",
   "execution_count": null,
   "id": "8b841507",
   "metadata": {},
   "outputs": [],
   "source": []
  },
  {
   "cell_type": "code",
   "execution_count": null,
   "id": "4cdda2c2",
   "metadata": {},
   "outputs": [],
   "source": []
  },
  {
   "cell_type": "code",
   "execution_count": 10,
   "id": "c6a9b287",
   "metadata": {},
   "outputs": [
    {
     "data": {
      "text/plain": [
       "[['인천', '핀란드', '항공기', '결항', '휴가철', '여행객', '분통'],\n",
       " ['실리콘', '밸리', '넘어서', '겠다', '구글', '조원', '들여', '전역', '거점화'],\n",
       " ['이란', '외무', '긴장완화', '해결책', '은', '미국이', '경제전쟁', '멈추는', '것'],\n",
       " ['클린턴', '측근', '기업', '특수관계', '조명', '공과', '사', '맞물려종합'],\n",
       " ['시진핑', '트럼프', '에', '중미', '무역협상', '조속', '타결', '희망'],\n",
       " ['팔레', '스타인', '가자지구', '서', '세', '소년', '이스라엘', '군', '총격에', '사망'],\n",
       " ['인도', '년', '만에', '파키스탄', '공습', '테러', '캠프', '폭격종합', '보'],\n",
       " ['대선', '토론', '음담패설', '만회실패', '트럼프', '사과', '대신', '빌', '클린턴', '공격해', '역효과'],\n",
       " ['푸틴', '한반도', '상황', '진전', '위한', '방안', '김정은', '위원장', '과', '논의'],\n",
       " ['특검', '면죄부', '받은', '트럼프', '스캔들', '보도', '언론', '맹공', '국민의', '적']]"
      ]
     },
     "execution_count": 10,
     "metadata": {},
     "output_type": "execute_result"
    }
   ],
   "source": [
    "aa = train_data['title'].tolist() + test_data['title'].tolist()\n",
    "aa = list(map(lambda x:x.split(), aa))\n",
    "aa[:10]"
   ]
  },
  {
   "cell_type": "code",
   "execution_count": 11,
   "id": "e4637baa",
   "metadata": {},
   "outputs": [
    {
     "name": "stderr",
     "output_type": "stream",
     "text": [
      "C:\\____anaconda2020\\envs\\tfgpu\\lib\\site-packages\\gensim\\similarities\\__init__.py:15: UserWarning: The gensim.similarities.levenshtein submodule is disabled, because the optional Levenshtein package <https://pypi.org/project/python-Levenshtein/> is unavailable. Install Levenhstein (e.g. `pip install python-Levenshtein`) to suppress this warning.\n",
      "  warnings.warn(msg)\n"
     ]
    }
   ],
   "source": [
    "from gensim.models import Word2Vec\n",
    "\n",
    "emb_model = Word2Vec(aa, vector_size=16, window=4, min_count=2)"
   ]
  },
  {
   "cell_type": "code",
   "execution_count": 73,
   "id": "c1f7f2d7",
   "metadata": {},
   "outputs": [
    {
     "name": "stdout",
     "output_type": "stream",
     "text": [
      "[('절차', 0.9985571503639221), ('보고', 0.9982126951217651), ('조합원', 0.9979482293128967), ('전교조', 0.9977871775627136), ('계', 0.9974363446235657), ('건강', 0.997406542301178), ('결론', 0.9972735643386841), ('예방', 0.9972302317619324), ('처럼', 0.9971676468849182), ('불가피', 0.9971650242805481)]\n"
     ]
    }
   ],
   "source": [
    "# model_result1 = emb_model.wv.most_similar(\"항공기\")\n",
    "# print(model_result1)"
   ]
  },
  {
   "cell_type": "code",
   "execution_count": null,
   "id": "7cb94744",
   "metadata": {},
   "outputs": [],
   "source": []
  },
  {
   "cell_type": "code",
   "execution_count": 12,
   "id": "d1998ce8",
   "metadata": {},
   "outputs": [],
   "source": [
    "emb_model.wv.index_to_key.insert(0, '<OOV>')"
   ]
  },
  {
   "cell_type": "code",
   "execution_count": 13,
   "id": "a1dbb591",
   "metadata": {},
   "outputs": [
    {
     "data": {
      "text/plain": [
       "['<OOV>', '에', '대통령', '서', '일', '명', '도', '년', '첫', '월']"
      ]
     },
     "execution_count": 13,
     "metadata": {},
     "output_type": "execute_result"
    }
   ],
   "source": [
    "emb_model.wv.index_to_key[:10]"
   ]
  },
  {
   "cell_type": "code",
   "execution_count": null,
   "id": "cace363d",
   "metadata": {},
   "outputs": [],
   "source": []
  },
  {
   "cell_type": "code",
   "execution_count": 24,
   "id": "bfb3c7b5",
   "metadata": {},
   "outputs": [],
   "source": [
    "word_dic_key = list(emb_model.wv.key_to_index.keys())\n",
    "word_dic_key.insert(0, '<OOV>')\n",
    "word_dic_value = list(emb_model.wv.key_to_index.values())\n",
    "word_dic_value.append(len(word_dic_value))\n",
    "\n",
    "assert len(word_dic_key) == len(word_dic_value)\n",
    "\n",
    "emb_model.wv.key_to_index = dict(zip(word_dic_key, word_dic_value))"
   ]
  },
  {
   "cell_type": "code",
   "execution_count": 25,
   "id": "0fc5dccd",
   "metadata": {},
   "outputs": [
    {
     "name": "stdout",
     "output_type": "stream",
     "text": [
      "['<OOV>', '에', '대통령', '서', '일', '명', '도', '년', '첫', '월']\n",
      "[0, 1, 2, 3, 4, 5, 6, 7, 8, 9]\n"
     ]
    }
   ],
   "source": [
    "print(list(emb_model.wv.key_to_index.keys())[:10])\n",
    "print(list(emb_model.wv.key_to_index.values())[:10])"
   ]
  },
  {
   "cell_type": "code",
   "execution_count": null,
   "id": "48b13ed7",
   "metadata": {},
   "outputs": [],
   "source": []
  },
  {
   "cell_type": "code",
   "execution_count": 27,
   "id": "4fef063b",
   "metadata": {},
   "outputs": [],
   "source": [
    "import numpy as np\n",
    "\n",
    "temp = np.zeros((1,16))\n",
    "emb_model.wv.vectors = np.concatenate([temp, emb_model.wv.vectors])\n",
    "\n",
    "print(emb_model.wv.vectors[:10])"
   ]
  },
  {
   "cell_type": "code",
   "execution_count": 28,
   "id": "079cd9a9",
   "metadata": {},
   "outputs": [
    {
     "data": {
      "text/plain": [
       "30253"
      ]
     },
     "execution_count": 28,
     "metadata": {},
     "output_type": "execute_result"
    }
   ],
   "source": [
    "len(emb_model.wv.vectors)"
   ]
  },
  {
   "cell_type": "code",
   "execution_count": null,
   "id": "17748954",
   "metadata": {},
   "outputs": [],
   "source": []
  },
  {
   "cell_type": "code",
   "execution_count": null,
   "id": "8fb26313",
   "metadata": {},
   "outputs": [],
   "source": []
  },
  {
   "cell_type": "code",
   "execution_count": 22,
   "id": "0629d7a0",
   "metadata": {},
   "outputs": [
    {
     "data": {
      "text/plain": [
       "[30242, 30243, 30244, 30245, 30246, 30247, 30248, 30249, 30250, 30251]"
      ]
     },
     "execution_count": 22,
     "metadata": {},
     "output_type": "execute_result"
    }
   ],
   "source": [
    "list(emb_model.wv.key_to_index.values())[-10:]"
   ]
  },
  {
   "cell_type": "code",
   "execution_count": 23,
   "id": "5e0f6e0e",
   "metadata": {},
   "outputs": [
    {
     "data": {
      "text/plain": [
       "30252"
      ]
     },
     "execution_count": 23,
     "metadata": {},
     "output_type": "execute_result"
    }
   ],
   "source": [
    "len(emb_model.wv.key_to_index)"
   ]
  },
  {
   "cell_type": "code",
   "execution_count": 126,
   "id": "39dd1162",
   "metadata": {},
   "outputs": [
    {
     "data": {
      "text/plain": [
       "20362"
      ]
     },
     "execution_count": 126,
     "metadata": {},
     "output_type": "execute_result"
    }
   ],
   "source": [
    "emb_model.wv.add_vector('<oov>', np.zeros(16))"
   ]
  },
  {
   "cell_type": "code",
   "execution_count": 137,
   "id": "c73a745c",
   "metadata": {},
   "outputs": [],
   "source": [
    "emb_model.wv.vectors = np.zeros(11)"
   ]
  },
  {
   "cell_type": "code",
   "execution_count": 138,
   "id": "e1213b00",
   "metadata": {},
   "outputs": [
    {
     "data": {
      "text/plain": [
       "array([0., 0., 0., 0., 0., 0., 0., 0., 0., 0., 0.])"
      ]
     },
     "execution_count": 138,
     "metadata": {},
     "output_type": "execute_result"
    }
   ],
   "source": [
    "emb_model.wv.vectors"
   ]
  },
  {
   "cell_type": "code",
   "execution_count": null,
   "id": "05ce2fc5",
   "metadata": {},
   "outputs": [],
   "source": []
  },
  {
   "cell_type": "code",
   "execution_count": 141,
   "id": "bd6dc5e0",
   "metadata": {},
   "outputs": [
    {
     "data": {
      "text/plain": [
       "{'a': 1, 'b': 2, 'c': 3}"
      ]
     },
     "execution_count": 141,
     "metadata": {},
     "output_type": "execute_result"
    }
   ],
   "source": [
    "dict(zip(['a','b','c'], [1,2,3]))"
   ]
  },
  {
   "cell_type": "code",
   "execution_count": null,
   "id": "f8fa7b5d",
   "metadata": {},
   "outputs": [],
   "source": []
  },
  {
   "cell_type": "code",
   "execution_count": null,
   "id": "03d0a674",
   "metadata": {},
   "outputs": [],
   "source": [
    "# 단어분할 2~6 까지도 해보고\n",
    "# word2vec의 vectors의 맨앞에 하나 추가 : <oov>, np.zeros(16)\n",
    "# key_to_index와, index_to_key에도 "
   ]
  },
  {
   "cell_type": "code",
   "execution_count": 20,
   "id": "338c3b67",
   "metadata": {},
   "outputs": [],
   "source": [
    "bb = {'a':1, 'b':2}\n",
    "zz = list(bb.values())\n",
    "zz.insert(0, 1)"
   ]
  },
  {
   "cell_type": "code",
   "execution_count": 17,
   "id": "c51b767a",
   "metadata": {},
   "outputs": [
    {
     "data": {
      "text/plain": [
       "dict_values([1, 2])"
      ]
     },
     "execution_count": 17,
     "metadata": {},
     "output_type": "execute_result"
    }
   ],
   "source": [
    "bb.values()"
   ]
  },
  {
   "cell_type": "code",
   "execution_count": 21,
   "id": "4226310a",
   "metadata": {},
   "outputs": [
    {
     "data": {
      "text/plain": [
       "[1, 1, 2]"
      ]
     },
     "execution_count": 21,
     "metadata": {},
     "output_type": "execute_result"
    }
   ],
   "source": [
    "zz"
   ]
  }
 ],
 "metadata": {
  "kernelspec": {
   "display_name": "Python 3",
   "language": "python",
   "name": "python3"
  },
  "language_info": {
   "codemirror_mode": {
    "name": "ipython",
    "version": 3
   },
   "file_extension": ".py",
   "mimetype": "text/x-python",
   "name": "python",
   "nbconvert_exporter": "python",
   "pygments_lexer": "ipython3",
   "version": "3.7.9"
  }
 },
 "nbformat": 4,
 "nbformat_minor": 5
}
